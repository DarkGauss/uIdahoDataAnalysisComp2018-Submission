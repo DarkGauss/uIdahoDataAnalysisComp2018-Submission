{
 "cells": [
  {
   "cell_type": "markdown",
   "metadata": {},
   "source": [
    "# Import the csv\n",
    "Store into two matrices, inputs and outputs"
   ]
  },
  {
   "cell_type": "code",
   "execution_count": 1,
   "metadata": {},
   "outputs": [],
   "source": [
    "import csv\n",
    "filename = \"training2013.csv\"\n",
    "filename_strip = filename[:-4]\n",
    "with open('Data/'+filename, mode='r') as csvfile:\n",
    "    readCSV = csv.reader(csvfile, delimiter=',')\n",
    "    inputs = []\n",
    "    outputs = []\n",
    "    line_count = 0\n",
    "    for row in readCSV:\n",
    "        if line_count > 0:\n",
    "            inputs.append(row[:-3])\n",
    "            outputs.append([row[-1],row[-2],row[-3]])\n",
    "        line_count+=1"
   ]
  },
  {
   "cell_type": "code",
   "execution_count": 2,
   "metadata": {},
   "outputs": [
    {
     "data": {
      "text/plain": [
       "'training2013'"
      ]
     },
     "execution_count": 2,
     "metadata": {},
     "output_type": "execute_result"
    }
   ],
   "source": [
    "filename_strip"
   ]
  },
  {
   "cell_type": "markdown",
   "metadata": {},
   "source": [
    "# Proccess the data for NA and .'s'\n",
    "reason for -1 and -5, is the genetic alg should learn those values specficaly. I think it will perform better \n",
    "then just replacing them with a mean or suchlike"
   ]
  },
  {
   "cell_type": "code",
   "execution_count": 3,
   "metadata": {},
   "outputs": [],
   "source": [
    "#fix inputs\n",
    "for r, row in enumerate(inputs):\n",
    "    for v, value in enumerate(row):\n",
    "        if value == \"NA\":\n",
    "            inputs[r][v] = '-1.0'\n",
    "        if value == \".\":\n",
    "            inputs[r][v] = '-5.0'\n",
    "        if value == '.':\n",
    "            inputs[r][v] = '-5.0'\n",
    "#fix outputs\n",
    "for r, row in enumerate(outputs):\n",
    "    for v, value in enumerate(row):\n",
    "        if value == \"NA\":\n",
    "            inputs[r][v] = '-1.0'\n",
    "        if value == '.':\n",
    "            inputs[r][v] = '-5.0'\n",
    "        if value == '.':\n",
    "            inputs[r][v] = '-5.0'\n",
    "            "
   ]
  },
  {
   "cell_type": "code",
   "execution_count": 4,
   "metadata": {},
   "outputs": [
    {
     "data": {
      "text/plain": [
       "['6174',\n",
       " '-5.0',\n",
       " '-5.0',\n",
       " '-5.0',\n",
       " '16',\n",
       " '11890',\n",
       " '9575',\n",
       " '10928',\n",
       " '0.76',\n",
       " '-0.725',\n",
       " '0.916',\n",
       " '0.845',\n",
       " '-0.561',\n",
       " '0.989',\n",
       " '0.28',\n",
       " '11',\n",
       " '44200',\n",
       " '542',\n",
       " '44200',\n",
       " '542',\n",
       " '-1.0',\n",
       " '0.175318661',\n",
       " '12.1875',\n",
       " '0.099487179',\n",
       " '21305.23659',\n",
       " '-1.0']"
      ]
     },
     "execution_count": 4,
     "metadata": {},
     "output_type": "execute_result"
    }
   ],
   "source": [
    "inputs[858]"
   ]
  },
  {
   "cell_type": "code",
   "execution_count": 5,
   "metadata": {
    "scrolled": true
   },
   "outputs": [],
   "source": [
    "num_samples = len(outputs)\n",
    "\n",
    "if len(inputs) != len(outputs):\n",
    "    print(\"SOMETHING WENT HORRIBLY WRONG\")\n",
    "    \n",
    "with open(\"DataConverted/\"+filename_strip+\".dataraw\",'w') as f:\n",
    "#first write num inputs, num outputs, and num rows\n",
    "    f.write(\"{} {}\\n\".format(int(len(inputs)),int(len(outputs[0]))+int(len(inputs[0]))))\n",
    "    #inputs and outputs are same length, so doesnt matter what we use\n",
    "    for r in range(0,len(outputs)):\n",
    "        #write out the inputs\n",
    "        for c in range(0,len(inputs[0])):\n",
    "            f.write(inputs[r][c])\n",
    "            f.write(\" \")\n",
    "        \n",
    "        #write out the outputs \n",
    "        for c in range(0,len(outputs[0])):\n",
    "            f.write(outputs[r][c])\n",
    "            f.write(\" \")\n",
    "        f.write('\\n')"
   ]
  },
  {
   "cell_type": "code",
   "execution_count": null,
   "metadata": {},
   "outputs": [],
   "source": []
  },
  {
   "cell_type": "code",
   "execution_count": null,
   "metadata": {},
   "outputs": [],
   "source": []
  }
 ],
 "metadata": {
  "kernelspec": {
   "display_name": "Python 3",
   "language": "python",
   "name": "python3"
  },
  "language_info": {
   "codemirror_mode": {
    "name": "ipython",
    "version": 3
   },
   "file_extension": ".py",
   "mimetype": "text/x-python",
   "name": "python",
   "nbconvert_exporter": "python",
   "pygments_lexer": "ipython3",
   "version": "3.6.5"
  }
 },
 "nbformat": 4,
 "nbformat_minor": 2
}
