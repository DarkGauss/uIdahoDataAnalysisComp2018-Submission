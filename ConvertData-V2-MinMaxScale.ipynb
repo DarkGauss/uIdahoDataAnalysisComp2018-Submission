{
 "cells": [
  {
   "cell_type": "markdown",
   "metadata": {},
   "source": [
    "# Import the csv\n",
    "Store into two matrices, inputs and outputs"
   ]
  },
  {
   "cell_type": "code",
   "execution_count": 1,
   "metadata": {},
   "outputs": [],
   "source": [
    "import csv\n",
    "filename = \"training2013.csv\"\n",
    "filename_strip = filename[:-4]\n",
    "with open('Data/'+filename, mode='r') as csvfile:\n",
    "    readCSV = csv.reader(csvfile, delimiter=',')\n",
    "    inputs = []\n",
    "    outputs = []\n",
    "    line_count = 0\n",
    "    for row in readCSV:\n",
    "        if line_count > 0:\n",
    "            inputs.append(row[:-3])\n",
    "            outputs.append([row[-1],row[-2],row[-3]])\n",
    "        line_count+=1"
   ]
  },
  {
   "cell_type": "code",
   "execution_count": 2,
   "metadata": {},
   "outputs": [
    {
     "data": {
      "text/plain": [
       "'training2013'"
      ]
     },
     "execution_count": 2,
     "metadata": {},
     "output_type": "execute_result"
    }
   ],
   "source": [
    "filename_strip"
   ]
  },
  {
   "cell_type": "markdown",
   "metadata": {},
   "source": [
    "# Proccess the data for NA and .'s'\n",
    "reason for -1 and -5, is the genetic alg should learn those values specficaly. I think it will perform better \n",
    "then just replacing them with a mean or suchlike"
   ]
  },
  {
   "cell_type": "code",
   "execution_count": 18,
   "metadata": {},
   "outputs": [],
   "source": [
    "#fix inputs\n",
    "for r, row in enumerate(inputs):\n",
    "    for v, value in enumerate(row):\n",
    "        if value == \"\\\"NA\\\"\":\n",
    "            input[r][v] = '-1.0'\n",
    "        if value == \"NA\":\n",
    "            inputs[r][v] = '-1.0'\n",
    "        if value == \".\":\n",
    "            inputs[r][v] = '-5.0'\n",
    "        if value == '.':\n",
    "            inputs[r][v] = '-5.0'\n",
    "#fix outputs\n",
    "for r, row in enumerate(outputs):\n",
    "    for v, value in enumerate(row):\n",
    "        if value == \"\\\"NA\\\"\":\n",
    "            input[r][v] = '-1.0'\n",
    "        if value == \"NA\":\n",
    "            inputs[r][v] = '-1.0'\n",
    "        if value == '.':\n",
    "            inputs[r][v] = '-5.0'\n",
    "        if value == '.':\n",
    "            inputs[r][v] = '-5.0'\n",
    "            "
   ]
  },
  {
   "cell_type": "code",
   "execution_count": 19,
   "metadata": {},
   "outputs": [
    {
     "data": {
      "text/plain": [
       "[['63', '0.151278796', '1'],\n",
       " ['80', '0.20602944', '1'],\n",
       " ['62', '0.121203185', '1'],\n",
       " ['87', '0.193175712', '1'],\n",
       " ['63', '0.132026567', '1'],\n",
       " ['89', '0.221111361', '1'],\n",
       " ['80', '0.239649682', '1'],\n",
       " ['50', '0.333938294', '1'],\n",
       " ['62', '0.161458333', '1'],\n",
       " ['100', '0.079646018', '1']]"
      ]
     },
     "execution_count": 19,
     "metadata": {},
     "output_type": "execute_result"
    }
   ],
   "source": [
    "outputs[:10]"
   ]
  },
  {
   "cell_type": "code",
   "execution_count": 26,
   "metadata": {},
   "outputs": [
    {
     "name": "stdout",
     "output_type": "stream",
     "text": [
      "wtf\n",
      "wtf\n",
      "wtf\n",
      "wtf\n",
      "wtf\n",
      "wtf\n",
      "wtf\n",
      "wtf\n",
      "wtf\n",
      "wtf\n",
      "wtf\n",
      "wtf\n",
      "wtf\n",
      "wtf\n",
      "wtf\n",
      "wtf\n",
      "wtf\n",
      "wtf\n",
      "wtf\n",
      "wtf\n",
      "wtf\n",
      "wtf\n",
      "wtf\n",
      "wtf\n",
      "wtf\n",
      "wtf\n",
      "wtf\n",
      "wtf\n",
      "wtf\n",
      "wtf\n",
      "wtf\n",
      "wtf\n",
      "wtf\n",
      "wtf\n"
     ]
    }
   ],
   "source": [
    "for row in outputs:\n",
    "    for value in row:\n",
    "        if value ==\"NA\":\n",
    "            value = \"0.0\"\n",
    "for row in outputs:\n",
    "    for value in row:\n",
    "        if value ==\"NA\":\n",
    "            print(\"wtf\")"
   ]
  },
  {
   "cell_type": "code",
   "execution_count": 27,
   "metadata": {},
   "outputs": [
    {
     "ename": "ValueError",
     "evalue": "could not convert string to float: 'NA'",
     "output_type": "error",
     "traceback": [
      "\u001b[1;31m---------------------------------------------------------------------------\u001b[0m",
      "\u001b[1;31mValueError\u001b[0m                                Traceback (most recent call last)",
      "\u001b[1;32m<ipython-input-27-a6d5e968224f>\u001b[0m in \u001b[0;36m<module>\u001b[1;34m()\u001b[0m\n\u001b[0;32m      1\u001b[0m \u001b[0moutputs_min\u001b[0m \u001b[1;33m=\u001b[0m \u001b[1;33m[\u001b[0m\u001b[1;33m]\u001b[0m\u001b[1;33m\u001b[0m\u001b[0m\n\u001b[0;32m      2\u001b[0m \u001b[1;32mfor\u001b[0m \u001b[0mi\u001b[0m \u001b[1;32min\u001b[0m \u001b[0mrange\u001b[0m\u001b[1;33m(\u001b[0m\u001b[1;36m0\u001b[0m\u001b[1;33m,\u001b[0m\u001b[0mlen\u001b[0m\u001b[1;33m(\u001b[0m\u001b[0moutputs\u001b[0m\u001b[1;33m[\u001b[0m\u001b[1;36m0\u001b[0m\u001b[1;33m]\u001b[0m\u001b[1;33m)\u001b[0m\u001b[1;33m)\u001b[0m\u001b[1;33m:\u001b[0m\u001b[1;33m\u001b[0m\u001b[0m\n\u001b[1;32m----> 3\u001b[1;33m     \u001b[0moutputs_min\u001b[0m\u001b[1;33m.\u001b[0m\u001b[0mappend\u001b[0m\u001b[1;33m(\u001b[0m\u001b[0mmin\u001b[0m\u001b[1;33m(\u001b[0m\u001b[0mfloat\u001b[0m\u001b[1;33m(\u001b[0m\u001b[0mx\u001b[0m\u001b[1;33m[\u001b[0m\u001b[0mi\u001b[0m\u001b[1;33m]\u001b[0m\u001b[1;33m)\u001b[0m \u001b[1;32mfor\u001b[0m \u001b[0mx\u001b[0m \u001b[1;32min\u001b[0m \u001b[0moutputs\u001b[0m\u001b[1;33m)\u001b[0m\u001b[1;33m)\u001b[0m\u001b[1;33m\u001b[0m\u001b[0m\n\u001b[0m",
      "\u001b[1;32m<ipython-input-27-a6d5e968224f>\u001b[0m in \u001b[0;36m<genexpr>\u001b[1;34m(.0)\u001b[0m\n\u001b[0;32m      1\u001b[0m \u001b[0moutputs_min\u001b[0m \u001b[1;33m=\u001b[0m \u001b[1;33m[\u001b[0m\u001b[1;33m]\u001b[0m\u001b[1;33m\u001b[0m\u001b[0m\n\u001b[0;32m      2\u001b[0m \u001b[1;32mfor\u001b[0m \u001b[0mi\u001b[0m \u001b[1;32min\u001b[0m \u001b[0mrange\u001b[0m\u001b[1;33m(\u001b[0m\u001b[1;36m0\u001b[0m\u001b[1;33m,\u001b[0m\u001b[0mlen\u001b[0m\u001b[1;33m(\u001b[0m\u001b[0moutputs\u001b[0m\u001b[1;33m[\u001b[0m\u001b[1;36m0\u001b[0m\u001b[1;33m]\u001b[0m\u001b[1;33m)\u001b[0m\u001b[1;33m)\u001b[0m\u001b[1;33m:\u001b[0m\u001b[1;33m\u001b[0m\u001b[0m\n\u001b[1;32m----> 3\u001b[1;33m     \u001b[0moutputs_min\u001b[0m\u001b[1;33m.\u001b[0m\u001b[0mappend\u001b[0m\u001b[1;33m(\u001b[0m\u001b[0mmin\u001b[0m\u001b[1;33m(\u001b[0m\u001b[0mfloat\u001b[0m\u001b[1;33m(\u001b[0m\u001b[0mx\u001b[0m\u001b[1;33m[\u001b[0m\u001b[0mi\u001b[0m\u001b[1;33m]\u001b[0m\u001b[1;33m)\u001b[0m \u001b[1;32mfor\u001b[0m \u001b[0mx\u001b[0m \u001b[1;32min\u001b[0m \u001b[0moutputs\u001b[0m\u001b[1;33m)\u001b[0m\u001b[1;33m)\u001b[0m\u001b[1;33m\u001b[0m\u001b[0m\n\u001b[0m",
      "\u001b[1;31mValueError\u001b[0m: could not convert string to float: 'NA'"
     ]
    }
   ],
   "source": [
    "outputs_min = []\n",
    "for i in range(0,len(outputs[0])):\n",
    "    outputs_min.append(min(float(x[i]) for x in outputs))"
   ]
  },
  {
   "cell_type": "code",
   "execution_count": 21,
   "metadata": {},
   "outputs": [
    {
     "data": {
      "text/plain": [
       "['4001',\n",
       " '530',\n",
       " '500',\n",
       " '20',\n",
       " '22',\n",
       " '5328',\n",
       " '4331',\n",
       " '5186',\n",
       " '0.76',\n",
       " '-0.725',\n",
       " '0.916',\n",
       " '0.845',\n",
       " '-0.561',\n",
       " '0.989',\n",
       " '0.324175824',\n",
       " '12',\n",
       " '12160',\n",
       " '0',\n",
       " '12160',\n",
       " '0',\n",
       " '-1.0',\n",
       " '0.250726087',\n",
       " '3.598360656',\n",
       " '0.459377373',\n",
       " '0',\n",
       " '-1.0']"
      ]
     },
     "execution_count": 21,
     "metadata": {},
     "output_type": "execute_result"
    }
   ],
   "source": [
    "inputs[853]"
   ]
  },
  {
   "cell_type": "code",
   "execution_count": null,
   "metadata": {
    "scrolled": true
   },
   "outputs": [],
   "source": [
    "num_samples = len(outputs)\n",
    "\n",
    "if len(inputs) != len(outputs):\n",
    "    print(\"SOMETHING WENT HORRIBLY WRONG\")\n",
    "    \n",
    "with open(\"DataConverted/\"+filename_strip+\".dataraw\",'w') as f:\n",
    "#first write num inputs, num outputs, and num rows\n",
    "    f.write(\"{} {}\\n\".format(int(len(inputs)),int(len(outputs[0]))+int(len(inputs[0]))))\n",
    "    #inputs and outputs are same length, so doesnt matter what we use\n",
    "    for r in range(0,len(outputs)):\n",
    "        #write out the inputs\n",
    "        for c in range(0,len(inputs[0])):\n",
    "            f.write(inputs[r][c])\n",
    "            f.write(\" \")\n",
    "        \n",
    "        #write out the outputs \n",
    "        for c in range(0,len(outputs[0])):\n",
    "            f.write(outputs[r][c])\n",
    "            f.write(\" \")\n",
    "        f.write('\\n')"
   ]
  },
  {
   "cell_type": "code",
   "execution_count": null,
   "metadata": {},
   "outputs": [],
   "source": []
  },
  {
   "cell_type": "code",
   "execution_count": null,
   "metadata": {},
   "outputs": [],
   "source": []
  }
 ],
 "metadata": {
  "kernelspec": {
   "display_name": "Python 3",
   "language": "python",
   "name": "python3"
  },
  "language_info": {
   "codemirror_mode": {
    "name": "ipython",
    "version": 3
   },
   "file_extension": ".py",
   "mimetype": "text/x-python",
   "name": "python",
   "nbconvert_exporter": "python",
   "pygments_lexer": "ipython3",
   "version": "3.6.5"
  }
 },
 "nbformat": 4,
 "nbformat_minor": 2
}
