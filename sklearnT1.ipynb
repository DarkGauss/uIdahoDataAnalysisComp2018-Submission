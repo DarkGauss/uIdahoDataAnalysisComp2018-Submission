{
 "cells": [
  {
   "cell_type": "code",
   "execution_count": null,
   "metadata": {},
   "outputs": [],
   "source": [
    "# data analysis and wrangling\n",
    "import pandas as pd\n",
    "import numpy as np\n",
    "import random as rnd\n"
   ]
  },
  {
   "cell_type": "code",
   "execution_count": null,
   "metadata": {},
   "outputs": [],
   "source": [
    "missing_values = [\"n/a\", \"na\", \"--\",\".\"]\n",
    "dataset = pd.read_csv(\"openrefine/TrainingAll.csv\", na_values = missing_values)"
   ]
  },
  {
   "cell_type": "code",
   "execution_count": 3,
   "metadata": {},
   "outputs": [
    {
     "name": "stdout",
     "output_type": "stream",
     "text": [
      "['File' 'NUID' 'SATREAD' 'SATMATH' 'ACTCUM' 'CARNIGIE' 'AVGSALMALE'\n",
      " 'AVGSALWOM' 'AVGSALTOT' 'HOUSE' 'HDEM' 'HREP' 'SENATE' 'SDEM' 'SREP'\n",
      " 'PERNWHT' 'STUFACR' 'TUITINS' 'FEEINS' 'TUITOUT' 'FEEOUT' 'FOOTBALL'\n",
      " 'TUITPER' 'SLCTVTY' 'APPEAL' 'RSRCHPSTU' 'HIGHBP' 'CHGENROL' 'FRACDEGRE'\n",
      " 'RETPCNT' 'BINGEDRK' 'HEALTHINS' 'MENTALHLTH' 'PHYSHLTH']\n"
     ]
    }
   ],
   "source": [
    "print(dataset.columns.values)"
   ]
  },
  {
   "cell_type": "code",
   "execution_count": 4,
   "metadata": {},
   "outputs": [
    {
     "data": {
      "text/plain": [
       "nan"
      ]
     },
     "execution_count": 4,
     "metadata": {},
     "output_type": "execute_result"
    }
   ],
   "source": [
    "dataset[\"SATREAD\"][4]"
   ]
  },
  {
   "cell_type": "code",
   "execution_count": 5,
   "metadata": {},
   "outputs": [
    {
     "data": {
      "text/plain": [
       "5814    training2016.csv\n",
       "Name: File, dtype: object"
      ]
     },
     "execution_count": 5,
     "metadata": {},
     "output_type": "execute_result"
    }
   ],
   "source": [
    "dataset[\"File\"].tail(1)"
   ]
  },
  {
   "cell_type": "code",
   "execution_count": 6,
   "metadata": {},
   "outputs": [
    {
     "data": {
      "text/html": [
       "<div>\n",
       "<style scoped>\n",
       "    .dataframe tbody tr th:only-of-type {\n",
       "        vertical-align: middle;\n",
       "    }\n",
       "\n",
       "    .dataframe tbody tr th {\n",
       "        vertical-align: top;\n",
       "    }\n",
       "\n",
       "    .dataframe thead th {\n",
       "        text-align: right;\n",
       "    }\n",
       "</style>\n",
       "<table border=\"1\" class=\"dataframe\">\n",
       "  <thead>\n",
       "    <tr style=\"text-align: right;\">\n",
       "      <th></th>\n",
       "      <th>NUID</th>\n",
       "      <th>SATREAD</th>\n",
       "      <th>SATMATH</th>\n",
       "      <th>ACTCUM</th>\n",
       "      <th>CARNIGIE</th>\n",
       "      <th>AVGSALMALE</th>\n",
       "      <th>AVGSALWOM</th>\n",
       "      <th>AVGSALTOT</th>\n",
       "      <th>HOUSE</th>\n",
       "      <th>HDEM</th>\n",
       "      <th>...</th>\n",
       "      <th>APPEAL</th>\n",
       "      <th>RSRCHPSTU</th>\n",
       "      <th>HIGHBP</th>\n",
       "      <th>CHGENROL</th>\n",
       "      <th>FRACDEGRE</th>\n",
       "      <th>RETPCNT</th>\n",
       "      <th>BINGEDRK</th>\n",
       "      <th>HEALTHINS</th>\n",
       "      <th>MENTALHLTH</th>\n",
       "      <th>PHYSHLTH</th>\n",
       "    </tr>\n",
       "  </thead>\n",
       "  <tbody>\n",
       "    <tr>\n",
       "      <th>count</th>\n",
       "      <td>5815.000000</td>\n",
       "      <td>3953.000000</td>\n",
       "      <td>3982.000000</td>\n",
       "      <td>4076.000000</td>\n",
       "      <td>5815.000000</td>\n",
       "      <td>5753.000000</td>\n",
       "      <td>5621.000000</td>\n",
       "      <td>5815.000000</td>\n",
       "      <td>5223.000000</td>\n",
       "      <td>5223.000000</td>\n",
       "      <td>...</td>\n",
       "      <td>5808.000000</td>\n",
       "      <td>5586.000000</td>\n",
       "      <td>1204.000000</td>\n",
       "      <td>5815.000000</td>\n",
       "      <td>5815.000000</td>\n",
       "      <td>5815.000000</td>\n",
       "      <td>1195.000000</td>\n",
       "      <td>1195.000000</td>\n",
       "      <td>1195.000000</td>\n",
       "      <td>1195.000000</td>\n",
       "    </tr>\n",
       "    <tr>\n",
       "      <th>mean</th>\n",
       "      <td>4157.673603</td>\n",
       "      <td>577.232482</td>\n",
       "      <td>584.517830</td>\n",
       "      <td>25.554711</td>\n",
       "      <td>18.493035</td>\n",
       "      <td>7611.038415</td>\n",
       "      <td>6956.482476</td>\n",
       "      <td>7262.975924</td>\n",
       "      <td>0.133001</td>\n",
       "      <td>-0.962480</td>\n",
       "      <td>...</td>\n",
       "      <td>0.778145</td>\n",
       "      <td>1269.270273</td>\n",
       "      <td>32.695847</td>\n",
       "      <td>1.000459</td>\n",
       "      <td>0.204678</td>\n",
       "      <td>74.992261</td>\n",
       "      <td>16.842929</td>\n",
       "      <td>17.032971</td>\n",
       "      <td>12.962092</td>\n",
       "      <td>13.131381</td>\n",
       "    </tr>\n",
       "    <tr>\n",
       "      <th>std</th>\n",
       "      <td>2373.582385</td>\n",
       "      <td>70.693090</td>\n",
       "      <td>74.392781</td>\n",
       "      <td>3.475093</td>\n",
       "      <td>5.848469</td>\n",
       "      <td>2563.514247</td>\n",
       "      <td>1961.291246</td>\n",
       "      <td>2332.068718</td>\n",
       "      <td>0.813477</td>\n",
       "      <td>0.395875</td>\n",
       "      <td>...</td>\n",
       "      <td>2.758643</td>\n",
       "      <td>4551.670027</td>\n",
       "      <td>4.831909</td>\n",
       "      <td>0.089779</td>\n",
       "      <td>0.071505</td>\n",
       "      <td>14.048816</td>\n",
       "      <td>2.738608</td>\n",
       "      <td>5.672745</td>\n",
       "      <td>1.906480</td>\n",
       "      <td>2.247178</td>\n",
       "    </tr>\n",
       "    <tr>\n",
       "      <th>min</th>\n",
       "      <td>10.000000</td>\n",
       "      <td>315.000000</td>\n",
       "      <td>325.000000</td>\n",
       "      <td>9.000000</td>\n",
       "      <td>-3.000000</td>\n",
       "      <td>777.000000</td>\n",
       "      <td>543.000000</td>\n",
       "      <td>748.000000</td>\n",
       "      <td>-1.308000</td>\n",
       "      <td>-1.902000</td>\n",
       "      <td>...</td>\n",
       "      <td>0.000000</td>\n",
       "      <td>0.000000</td>\n",
       "      <td>22.600000</td>\n",
       "      <td>0.142015</td>\n",
       "      <td>0.000000</td>\n",
       "      <td>0.000000</td>\n",
       "      <td>9.600000</td>\n",
       "      <td>4.100000</td>\n",
       "      <td>8.100000</td>\n",
       "      <td>7.400000</td>\n",
       "    </tr>\n",
       "    <tr>\n",
       "      <th>25%</th>\n",
       "      <td>2187.000000</td>\n",
       "      <td>530.000000</td>\n",
       "      <td>531.500000</td>\n",
       "      <td>23.000000</td>\n",
       "      <td>18.000000</td>\n",
       "      <td>5979.000000</td>\n",
       "      <td>5713.000000</td>\n",
       "      <td>5804.500000</td>\n",
       "      <td>-0.858000</td>\n",
       "      <td>-1.189000</td>\n",
       "      <td>...</td>\n",
       "      <td>0.229934</td>\n",
       "      <td>0.000000</td>\n",
       "      <td>29.175000</td>\n",
       "      <td>0.975602</td>\n",
       "      <td>0.164728</td>\n",
       "      <td>68.000000</td>\n",
       "      <td>14.900000</td>\n",
       "      <td>13.050000</td>\n",
       "      <td>11.700000</td>\n",
       "      <td>11.800000</td>\n",
       "    </tr>\n",
       "    <tr>\n",
       "      <th>50%</th>\n",
       "      <td>4119.000000</td>\n",
       "      <td>570.000000</td>\n",
       "      <td>570.000000</td>\n",
       "      <td>25.000000</td>\n",
       "      <td>19.000000</td>\n",
       "      <td>7391.000000</td>\n",
       "      <td>6766.000000</td>\n",
       "      <td>7059.000000</td>\n",
       "      <td>0.540000</td>\n",
       "      <td>-0.995000</td>\n",
       "      <td>...</td>\n",
       "      <td>0.343800</td>\n",
       "      <td>0.617348</td>\n",
       "      <td>32.300000</td>\n",
       "      <td>1.000000</td>\n",
       "      <td>0.200536</td>\n",
       "      <td>76.000000</td>\n",
       "      <td>16.600000</td>\n",
       "      <td>16.500000</td>\n",
       "      <td>13.000000</td>\n",
       "      <td>13.100000</td>\n",
       "    </tr>\n",
       "    <tr>\n",
       "      <th>75%</th>\n",
       "      <td>6146.000000</td>\n",
       "      <td>620.000000</td>\n",
       "      <td>620.000000</td>\n",
       "      <td>28.000000</td>\n",
       "      <td>22.000000</td>\n",
       "      <td>8934.000000</td>\n",
       "      <td>8025.000000</td>\n",
       "      <td>8482.500000</td>\n",
       "      <td>0.796000</td>\n",
       "      <td>-0.669000</td>\n",
       "      <td>...</td>\n",
       "      <td>0.594316</td>\n",
       "      <td>370.478604</td>\n",
       "      <td>35.200000</td>\n",
       "      <td>1.016784</td>\n",
       "      <td>0.236112</td>\n",
       "      <td>84.000000</td>\n",
       "      <td>18.700000</td>\n",
       "      <td>19.900000</td>\n",
       "      <td>14.100000</td>\n",
       "      <td>14.500000</td>\n",
       "    </tr>\n",
       "    <tr>\n",
       "      <th>max</th>\n",
       "      <td>9257.000000</td>\n",
       "      <td>800.000000</td>\n",
       "      <td>800.000000</td>\n",
       "      <td>35.000000</td>\n",
       "      <td>32.000000</td>\n",
       "      <td>22798.000000</td>\n",
       "      <td>20266.000000</td>\n",
       "      <td>22146.000000</td>\n",
       "      <td>1.228000</td>\n",
       "      <td>0.136000</td>\n",
       "      <td>...</td>\n",
       "      <td>68.600000</td>\n",
       "      <td>77304.309710</td>\n",
       "      <td>47.800000</td>\n",
       "      <td>2.653455</td>\n",
       "      <td>0.901734</td>\n",
       "      <td>100.000000</td>\n",
       "      <td>25.400000</td>\n",
       "      <td>39.500000</td>\n",
       "      <td>18.200000</td>\n",
       "      <td>20.400000</td>\n",
       "    </tr>\n",
       "  </tbody>\n",
       "</table>\n",
       "<p>8 rows × 33 columns</p>\n",
       "</div>"
      ],
      "text/plain": [
       "              NUID      SATREAD      SATMATH       ACTCUM     CARNIGIE  \\\n",
       "count  5815.000000  3953.000000  3982.000000  4076.000000  5815.000000   \n",
       "mean   4157.673603   577.232482   584.517830    25.554711    18.493035   \n",
       "std    2373.582385    70.693090    74.392781     3.475093     5.848469   \n",
       "min      10.000000   315.000000   325.000000     9.000000    -3.000000   \n",
       "25%    2187.000000   530.000000   531.500000    23.000000    18.000000   \n",
       "50%    4119.000000   570.000000   570.000000    25.000000    19.000000   \n",
       "75%    6146.000000   620.000000   620.000000    28.000000    22.000000   \n",
       "max    9257.000000   800.000000   800.000000    35.000000    32.000000   \n",
       "\n",
       "         AVGSALMALE     AVGSALWOM     AVGSALTOT        HOUSE         HDEM  \\\n",
       "count   5753.000000   5621.000000   5815.000000  5223.000000  5223.000000   \n",
       "mean    7611.038415   6956.482476   7262.975924     0.133001    -0.962480   \n",
       "std     2563.514247   1961.291246   2332.068718     0.813477     0.395875   \n",
       "min      777.000000    543.000000    748.000000    -1.308000    -1.902000   \n",
       "25%     5979.000000   5713.000000   5804.500000    -0.858000    -1.189000   \n",
       "50%     7391.000000   6766.000000   7059.000000     0.540000    -0.995000   \n",
       "75%     8934.000000   8025.000000   8482.500000     0.796000    -0.669000   \n",
       "max    22798.000000  20266.000000  22146.000000     1.228000     0.136000   \n",
       "\n",
       "       ...       APPEAL     RSRCHPSTU       HIGHBP     CHGENROL    FRACDEGRE  \\\n",
       "count  ...  5808.000000   5586.000000  1204.000000  5815.000000  5815.000000   \n",
       "mean   ...     0.778145   1269.270273    32.695847     1.000459     0.204678   \n",
       "std    ...     2.758643   4551.670027     4.831909     0.089779     0.071505   \n",
       "min    ...     0.000000      0.000000    22.600000     0.142015     0.000000   \n",
       "25%    ...     0.229934      0.000000    29.175000     0.975602     0.164728   \n",
       "50%    ...     0.343800      0.617348    32.300000     1.000000     0.200536   \n",
       "75%    ...     0.594316    370.478604    35.200000     1.016784     0.236112   \n",
       "max    ...    68.600000  77304.309710    47.800000     2.653455     0.901734   \n",
       "\n",
       "           RETPCNT     BINGEDRK    HEALTHINS   MENTALHLTH     PHYSHLTH  \n",
       "count  5815.000000  1195.000000  1195.000000  1195.000000  1195.000000  \n",
       "mean     74.992261    16.842929    17.032971    12.962092    13.131381  \n",
       "std      14.048816     2.738608     5.672745     1.906480     2.247178  \n",
       "min       0.000000     9.600000     4.100000     8.100000     7.400000  \n",
       "25%      68.000000    14.900000    13.050000    11.700000    11.800000  \n",
       "50%      76.000000    16.600000    16.500000    13.000000    13.100000  \n",
       "75%      84.000000    18.700000    19.900000    14.100000    14.500000  \n",
       "max     100.000000    25.400000    39.500000    18.200000    20.400000  \n",
       "\n",
       "[8 rows x 33 columns]"
      ]
     },
     "execution_count": 6,
     "metadata": {},
     "output_type": "execute_result"
    }
   ],
   "source": [
    "dataset.describe()"
   ]
  },
  {
   "cell_type": "code",
   "execution_count": 7,
   "metadata": {},
   "outputs": [
    {
     "data": {
      "text/plain": [
       "array([0, 1, 2, 3], dtype=int64)"
      ]
     },
     "execution_count": 7,
     "metadata": {},
     "output_type": "execute_result"
    }
   ],
   "source": [
    "from sklearn import preprocessing\n",
    "\n",
    "# create the Labelencoder object\n",
    "le = preprocessing.LabelEncoder()\n",
    "dataset[\"File\"] = le.fit_transform(dataset[\"File\"])\n",
    "dataset[\"File\"].unique()"
   ]
  },
  {
   "cell_type": "code",
   "execution_count": 8,
   "metadata": {},
   "outputs": [],
   "source": [
    "#drop the seperate the data into targets and data\n",
    "target_cols = [\"CHGENROL\",\"FRACDEGRE\",\"RETPCNT\"]\n",
    "cols = [col for col in dataset.columns if col not in target_cols]\n",
    "data = dataset[cols]\n",
    "target = dataset[target_cols]"
   ]
  },
  {
   "cell_type": "code",
   "execution_count": 9,
   "metadata": {},
   "outputs": [],
   "source": [
    "from sklearn.model_selection import train_test_split\n",
    "X_train, X_test, y_train, y_test = train_test_split(data,target,test_size = 0.20)"
   ]
  },
  {
   "cell_type": "code",
   "execution_count": 28,
   "metadata": {},
   "outputs": [],
   "source": [
    "from sklearn.metrics import accuracy_score\n",
    "from sklearn import svm\n",
    "from sklearn.impute import SimpleImputer, MissingIndicator\n",
    "from sklearn.pipeline import FeatureUnion, Pipeline\n",
    "from sklearn.preprocessing import StandardScaler"
   ]
  },
  {
   "cell_type": "code",
   "execution_count": 47,
   "metadata": {},
   "outputs": [
    {
     "ename": "AttributeError",
     "evalue": "'SimpleImputer' object has no attribute 'fit_tranform'",
     "output_type": "error",
     "traceback": [
      "\u001b[1;31m---------------------------------------------------------------------------\u001b[0m",
      "\u001b[1;31mAttributeError\u001b[0m                            Traceback (most recent call last)",
      "\u001b[1;32m<ipython-input-47-ebcac673a8c0>\u001b[0m in \u001b[0;36m<module>\u001b[1;34m\u001b[0m\n\u001b[0;32m      4\u001b[0m \u001b[1;33m\u001b[0m\u001b[0m\n\u001b[0;32m      5\u001b[0m \u001b[0ma\u001b[0m \u001b[1;33m=\u001b[0m \u001b[0mSimpleImputer\u001b[0m\u001b[1;33m(\u001b[0m\u001b[0mmissing_values\u001b[0m\u001b[1;33m=\u001b[0m\u001b[0mnp\u001b[0m\u001b[1;33m.\u001b[0m\u001b[0mnan\u001b[0m\u001b[1;33m,\u001b[0m \u001b[0mstrategy\u001b[0m\u001b[1;33m=\u001b[0m\u001b[1;34m'mean'\u001b[0m\u001b[1;33m)\u001b[0m\u001b[1;33m\u001b[0m\u001b[1;33m\u001b[0m\u001b[0m\n\u001b[1;32m----> 6\u001b[1;33m \u001b[0ma\u001b[0m\u001b[1;33m.\u001b[0m\u001b[0mfit_tranform\u001b[0m\u001b[1;33m(\u001b[0m\u001b[0mX_train\u001b[0m\u001b[1;33m)\u001b[0m\u001b[1;33m\u001b[0m\u001b[1;33m\u001b[0m\u001b[0m\n\u001b[0m",
      "\u001b[1;31mAttributeError\u001b[0m: 'SimpleImputer' object has no attribute 'fit_tranform'"
     ]
    }
   ],
   "source": [
    "transformer_list=[('features', SimpleImputer(strategy='mean')),('indicators', MissingIndicator())]\n",
    "inpute = FeatureUnion(transformer_list)\n",
    "inpute = inpute.fit(X_train, y_train)\n",
    "\n",
    "a = SimpleImputer(missing_values=np.nan, strategy='mean')\n",
    "a.fit_tranform(X_train)"
   ]
  },
  {
   "cell_type": "code",
   "execution_count": 39,
   "metadata": {},
   "outputs": [],
   "source": [
    "estimators = [(\"impute\",inpute),('scale', StandardScaler()), (\"clf\",svm.SVR())]\n",
    "pipe = Pipeline(estimators)\n",
    "\n",
    "\n"
   ]
  },
  {
   "cell_type": "code",
   "execution_count": 43,
   "metadata": {},
   "outputs": [],
   "source": [
    "\n",
    "C_range = np.logspace(-2, 10, 13)\n",
    "gamma_range = np.logspace(-9, 3, 13)\n",
    "\n",
    "param_grid = dict(clf__gamma = [gamma_range,'scale','auto'],\n",
    "                  clf__C = C_range,\n",
    "                  clf__kernel=['rbf','linear'])\n",
    "\n",
    "\n",
    "cv = StratifiedShuffleSplit(n_splits=5, test_size=0.2, random_state=42)\n",
    "\n",
    "grid = GridSearchCV(pipe, param_grid=param_grid, cv=cv, n_jobs=-1, verbose=2, scoring= 'accuracy')\n",
    "\n"
   ]
  },
  {
   "cell_type": "code",
   "execution_count": null,
   "metadata": {},
   "outputs": [],
   "source": [
    "grid.fit()"
   ]
  }
 ],
 "metadata": {
  "kernelspec": {
   "display_name": "Python 3",
   "language": "python",
   "name": "python3"
  },
  "language_info": {
   "codemirror_mode": {
    "name": "ipython",
    "version": 3
   },
   "file_extension": ".py",
   "mimetype": "text/x-python",
   "name": "python",
   "nbconvert_exporter": "python",
   "pygments_lexer": "ipython3",
   "version": "3.7.3"
  }
 },
 "nbformat": 4,
 "nbformat_minor": 2
}
